{
 "cells": [
  {
   "cell_type": "code",
   "execution_count": null,
   "metadata": {},
   "outputs": [],
   "source": [
    "correct_word = [\"e\",\"v\",\"a\",\"p\",\"o\",\"r\",\"a\",\"t\",\"e\"]\n",
    "guess_track = [\"_\",\"_\",\"_\",\"_\",\"_\",\"_\",\"_\",\"_\",\"_\"]\n",
    "tracked = []\n",
    "counter=0\n",
    "import system"
   ]
  },
  {
   "cell_type": "code",
   "execution_count": null,
   "metadata": {},
   "outputs": [],
   "source": [
    "while len(correct_word) > 0:\n",
    "    guess_char=input(\"enter your guess\")\n",
    "    \n",
    "    for i in range(len(correct_word)):\n",
    "        print(\"turn is\",i)\n",
    "        if guess_track == correct_word:\n",
    "            print(\"you won\")\n",
    "            system.\n",
    "        elif guess_char == correct_word[i]:\n",
    "            tracked.append(i)\n",
    "            guess_track[i]=correct_word[i]\n",
    "            \n",
    "            print(guess_track)\n",
    "            print(i)\n",
    "            print(len(correct_word))\n",
    "        else:\n",
    "            pass\n",
    "            \n",
    "    \n",
    "    "
   ]
  }
 ],
 "metadata": {
  "kernelspec": {
   "display_name": "Python 3",
   "language": "python",
   "name": "python3"
  },
  "language_info": {
   "codemirror_mode": {
    "name": "ipython",
    "version": 3
   },
   "file_extension": ".py",
   "mimetype": "text/x-python",
   "name": "python",
   "nbconvert_exporter": "python",
   "pygments_lexer": "ipython3",
   "version": "3.6.3"
  }
 },
 "nbformat": 4,
 "nbformat_minor": 2
}
