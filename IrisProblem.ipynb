{
 "cells": [
  {
   "cell_type": "code",
   "execution_count": 12,
   "metadata": {},
   "outputs": [],
   "source": [
    "from sklearn import datasets\n",
    "import pandas as pd\n",
    "import numpy as np\n"
   ]
  },
  {
   "cell_type": "code",
   "execution_count": 13,
   "metadata": {
    "collapsed": true
   },
   "outputs": [],
   "source": [
    "df = pd.read_csv(\"/Users/abhisheklomsh/Repositories/Sabudh/iris-species/iris.csv\")\n"
   ]
  },
  {
   "cell_type": "code",
   "execution_count": 14,
   "metadata": {},
   "outputs": [
    {
     "data": {
      "text/plain": [
       "Species\n",
       "Iris-setosa        50\n",
       "Iris-versicolor    50\n",
       "Iris-virginica     50\n",
       "dtype: int64"
      ]
     },
     "execution_count": 14,
     "metadata": {},
     "output_type": "execute_result"
    }
   ],
   "source": [
    "df.groupby('Species').size()"
   ]
  },
  {
   "cell_type": "code",
   "execution_count": 15,
   "metadata": {
    "collapsed": true
   },
   "outputs": [],
   "source": [
    "classes = df[\"Species\"].values"
   ]
  },
  {
   "cell_type": "code",
   "execution_count": 16,
   "metadata": {
    "collapsed": true
   },
   "outputs": [],
   "source": [
    "features = df[[\"SepalLengthCm\",\"SepalWidthCm\",\"PetalLengthCm\",\"PetalWidthCm\"]].values"
   ]
  },
  {
   "cell_type": "code",
   "execution_count": 17,
   "metadata": {
    "collapsed": true
   },
   "outputs": [],
   "source": [
    "from sklearn.preprocessing import LabelEncoder\n"
   ]
  },
  {
   "cell_type": "code",
   "execution_count": 18,
   "metadata": {},
   "outputs": [],
   "source": [
    "from sklearn.cross_validation import train_test_split\n",
    "X_train, X_test, y_train, y_test = train_test_split(features, classes, test_size = 0.4, random_state = 0)"
   ]
  },
  {
   "cell_type": "code",
   "execution_count": 19,
   "metadata": {
    "collapsed": true
   },
   "outputs": [],
   "source": [
    "def calculate_distance(X_train,X_test,number_of_features,number_of_test_samples,number_of_train_samples,number_of_neighbours):\n",
    "    distance = {}\n",
    "    inter_distance = 0\n",
    "    accuracy_score = 0\n",
    "    accuracy_divide = number_of_test_samples\n",
    "    print(accuracy_divide)\n",
    "    for row in range(number_of_test_samples):\n",
    "        \n",
    "        for iteration_i in range(number_of_train_samples):\n",
    "            for iteration_j in range(number_of_features):\n",
    "                inter_distance += np.square(X_train[iteration_i][iteration_j])-np.square(X_test[row][iteration_j])\n",
    "            \n",
    "            distance[iteration_i]=np.sqrt(np.abs(inter_distance))\n",
    "            \n",
    "            inter_distance=0\n",
    "        accuracy_score = nearest_neighbours(accuracy_score,row,distance,number_of_neighbours)\n",
    "        \n",
    "        \n",
    "    print((accuracy_score/accuracy_divide)*100)\n",
    "    print(y_test)\n",
    "    #return distance\n",
    "\n",
    "\n",
    "    \n",
    "    \n",
    "    \n",
    "    \n",
    "\n",
    "\n"
   ]
  },
  {
   "cell_type": "code",
   "execution_count": 20,
   "metadata": {
    "collapsed": true
   },
   "outputs": [],
   "source": [
    "def nearest_neighbours(accuracy_score,row,distance,number_of_neighbours):\n",
    "    \n",
    "    distance = sorted((value,key) for (key,value) in distance.items())\n",
    "    class_list=[]\n",
    "    \n",
    "    for iteration in range(number_of_neighbours):\n",
    "        class_list.append(classes[distance[iteration][1]])\n",
    "        \n",
    "        \n",
    "    print(\"Max is: \",max(class_list,key=class_list.count))\n",
    "    \n",
    "    result = max(class_list,key=class_list.count)\n",
    "    if str(result) == str(y_test[row]):\n",
    "        accuracy_score+=1\n",
    "    return accuracy_score"
   ]
  },
  {
   "cell_type": "code",
   "execution_count": 21,
   "metadata": {},
   "outputs": [
    {
     "name": "stdout",
     "output_type": "stream",
     "text": [
      "Please enter number of neighbours to be tested for - 5\n"
     ]
    }
   ],
   "source": [
    "number_of_features = features.shape[1]\n",
    "number_of_test_samples = X_test.shape[0]\n",
    "number_of_train_samples = X_train.shape[0]\n",
    "number_of_neighbours = int(input(\"Please enter number of neighbours to be tested for - \"))"
   ]
  },
  {
   "cell_type": "code",
   "execution_count": 22,
   "metadata": {},
   "outputs": [
    {
     "name": "stdout",
     "output_type": "stream",
     "text": [
      "60\n",
      "Max is:  Iris-versicolor\n",
      "Max is:  Iris-versicolor\n",
      "Max is:  Iris-versicolor\n",
      "Max is:  Iris-setosa\n",
      "Max is:  Iris-versicolor\n",
      "Max is:  Iris-setosa\n",
      "Max is:  Iris-versicolor\n",
      "Max is:  Iris-versicolor\n",
      "Max is:  Iris-versicolor\n",
      "Max is:  Iris-setosa\n",
      "Max is:  Iris-setosa\n",
      "Max is:  Iris-versicolor\n",
      "Max is:  Iris-setosa\n",
      "Max is:  Iris-versicolor\n",
      "Max is:  Iris-setosa\n",
      "Max is:  Iris-versicolor\n",
      "Max is:  Iris-setosa\n",
      "Max is:  Iris-versicolor\n",
      "Max is:  Iris-setosa\n",
      "Max is:  Iris-setosa\n",
      "Max is:  Iris-setosa\n",
      "Max is:  Iris-setosa\n",
      "Max is:  Iris-versicolor\n",
      "Max is:  Iris-setosa\n",
      "Max is:  Iris-versicolor\n",
      "Max is:  Iris-setosa\n",
      "Max is:  Iris-setosa\n",
      "Max is:  Iris-setosa\n",
      "Max is:  Iris-versicolor\n",
      "Max is:  Iris-setosa\n",
      "Max is:  Iris-setosa\n",
      "Max is:  Iris-setosa\n",
      "Max is:  Iris-versicolor\n",
      "Max is:  Iris-versicolor\n",
      "Max is:  Iris-setosa\n",
      "Max is:  Iris-versicolor\n",
      "Max is:  Iris-versicolor\n",
      "Max is:  Iris-versicolor\n",
      "Max is:  Iris-setosa\n",
      "Max is:  Iris-versicolor\n",
      "Max is:  Iris-setosa\n",
      "Max is:  Iris-setosa\n",
      "Max is:  Iris-versicolor\n",
      "Max is:  Iris-setosa\n",
      "Max is:  Iris-versicolor\n",
      "Max is:  Iris-versicolor\n",
      "Max is:  Iris-setosa\n",
      "Max is:  Iris-setosa\n",
      "Max is:  Iris-setosa\n",
      "Max is:  Iris-versicolor\n",
      "Max is:  Iris-setosa\n",
      "Max is:  Iris-versicolor\n",
      "Max is:  Iris-versicolor\n",
      "Max is:  Iris-versicolor\n",
      "Max is:  Iris-versicolor\n",
      "Max is:  Iris-versicolor\n",
      "Max is:  Iris-setosa\n",
      "Max is:  Iris-versicolor\n",
      "Max is:  Iris-setosa\n",
      "Max is:  Iris-setosa\n",
      "35.0\n",
      "['Iris-virginica' 'Iris-versicolor' 'Iris-setosa' 'Iris-virginica'\n",
      " 'Iris-setosa' 'Iris-virginica' 'Iris-setosa' 'Iris-versicolor'\n",
      " 'Iris-versicolor' 'Iris-versicolor' 'Iris-virginica' 'Iris-versicolor'\n",
      " 'Iris-versicolor' 'Iris-versicolor' 'Iris-versicolor' 'Iris-setosa'\n",
      " 'Iris-versicolor' 'Iris-versicolor' 'Iris-setosa' 'Iris-setosa'\n",
      " 'Iris-virginica' 'Iris-versicolor' 'Iris-setosa' 'Iris-setosa'\n",
      " 'Iris-virginica' 'Iris-setosa' 'Iris-setosa' 'Iris-versicolor'\n",
      " 'Iris-versicolor' 'Iris-setosa' 'Iris-virginica' 'Iris-versicolor'\n",
      " 'Iris-setosa' 'Iris-virginica' 'Iris-virginica' 'Iris-versicolor'\n",
      " 'Iris-setosa' 'Iris-versicolor' 'Iris-versicolor' 'Iris-versicolor'\n",
      " 'Iris-virginica' 'Iris-setosa' 'Iris-virginica' 'Iris-setosa'\n",
      " 'Iris-setosa' 'Iris-versicolor' 'Iris-virginica' 'Iris-virginica'\n",
      " 'Iris-virginica' 'Iris-virginica' 'Iris-versicolor' 'Iris-virginica'\n",
      " 'Iris-versicolor' 'Iris-versicolor' 'Iris-virginica' 'Iris-virginica'\n",
      " 'Iris-virginica' 'Iris-virginica' 'Iris-versicolor' 'Iris-virginica']\n"
     ]
    }
   ],
   "source": [
    "calculate_distance(X_train,X_test,number_of_features,number_of_test_samples,number_of_train_samples,number_of_neighbours)"
   ]
  },
  {
   "cell_type": "code",
   "execution_count": null,
   "metadata": {
    "collapsed": true
   },
   "outputs": [],
   "source": []
  },
  {
   "cell_type": "code",
   "execution_count": null,
   "metadata": {
    "collapsed": true
   },
   "outputs": [],
   "source": []
  },
  {
   "cell_type": "code",
   "execution_count": null,
   "metadata": {
    "collapsed": true
   },
   "outputs": [],
   "source": []
  }
 ],
 "metadata": {
  "kernelspec": {
   "display_name": "Python 3",
   "language": "python",
   "name": "python3"
  },
  "language_info": {
   "codemirror_mode": {
    "name": "ipython",
    "version": 3
   },
   "file_extension": ".py",
   "mimetype": "text/x-python",
   "name": "python",
   "nbconvert_exporter": "python",
   "pygments_lexer": "ipython3",
   "version": "3.6.3"
  }
 },
 "nbformat": 4,
 "nbformat_minor": 2
}
