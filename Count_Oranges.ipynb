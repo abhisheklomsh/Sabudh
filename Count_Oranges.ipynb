{
  "nbformat": 4,
  "nbformat_minor": 0,
  "metadata": {
    "colab": {
      "name": "Untitled0.ipynb",
      "version": "0.3.2",
      "provenance": [],
      "include_colab_link": true
    },
    "kernelspec": {
      "name": "python3",
      "display_name": "Python 3"
    }
  },
  "cells": [
    {
      "cell_type": "markdown",
      "metadata": {
        "id": "view-in-github",
        "colab_type": "text"
      },
      "source": [
        "<a href=\"https://colab.research.google.com/github/abhisheklomsh/Sabudh/blob/master/Count_Oranges.ipynb\" target=\"_parent\"><img src=\"https://colab.research.google.com/assets/colab-badge.svg\" alt=\"Open In Colab\"/></a>"
      ]
    },
    {
      "metadata": {
        "id": "SLt4w68filK6",
        "colab_type": "code",
        "colab": {}
      },
      "cell_type": "code",
      "source": [
        "# Load the Drive helper and mount\n",
        "from google.colab import drive\n",
        "\n",
        "# This will prompt for authorization.\n",
        "\n",
        "import cv2\n",
        "import numpy as np\n",
        "import glob\n",
        "import matplotlib.pyplot as plt\n",
        "import imageio\n",
        "%matplotlib inline\n",
        "from PIL import Image\n",
        "import pandas as pd\n",
        "\n",
        "\n"
      ],
      "execution_count": 0,
      "outputs": []
    },
    {
      "metadata": {
        "id": "F4xrm_HAlBiN",
        "colab_type": "code",
        "outputId": "2663ee72-cec8-442b-b054-215e0776abc8",
        "colab": {
          "base_uri": "https://localhost:8080/",
          "height": 34
        }
      },
      "cell_type": "code",
      "source": [
        "from google.colab import drive\n",
        "drive.mount('/content/drive', force_remount=True)"
      ],
      "execution_count": 2,
      "outputs": [
        {
          "output_type": "stream",
          "text": [
            "Mounted at /content/drive\n"
          ],
          "name": "stdout"
        }
      ]
    },
    {
      "metadata": {
        "id": "lt5JbnAgkg_N",
        "colab_type": "code",
        "colab": {}
      },
      "cell_type": "code",
      "source": [
        "from skimage import io\n",
        "\n",
        "    \n",
        "    \n",
        "\n"
      ],
      "execution_count": 0,
      "outputs": []
    },
    {
      "metadata": {
        "id": "GhEH0MNvkhr3",
        "colab_type": "code",
        "colab": {}
      },
      "cell_type": "code",
      "source": [
        "\n",
        "\n",
        "\n",
        "#!ls \"/content/drive/My Drive/ImagesAndCode_ImageScrape/special7\"\n",
        "\n",
        "\n",
        "np_im = io.imread(\"/content/drive/My Drive/ImagesAndCode_ImageScrape/special7/IMG-20190131-WA0025 (1).jpg\", as_gray=True)\n",
        "\n",
        "\n",
        "\n"
      ],
      "execution_count": 0,
      "outputs": []
    },
    {
      "metadata": {
        "id": "s9EfGUX7pRvD",
        "colab_type": "code",
        "outputId": "d50425b2-8cc5-4cf3-b000-12003f80b3fd",
        "colab": {
          "base_uri": "https://localhost:8080/",
          "height": 850
        }
      },
      "cell_type": "code",
      "source": [
        "np_im"
      ],
      "execution_count": 5,
      "outputs": [
        {
          "output_type": "execute_result",
          "data": {
            "text/plain": [
              "array([[[124, 120, 109],\n",
              "        [119, 115, 104],\n",
              "        [139, 135, 126],\n",
              "        ...,\n",
              "        [246, 236, 151],\n",
              "        [235, 227, 118],\n",
              "        [229, 224,  98]],\n",
              "\n",
              "       [[125, 118, 112],\n",
              "        [118, 111, 105],\n",
              "        [145, 138, 132],\n",
              "        ...,\n",
              "        [241, 235, 157],\n",
              "        [226, 223, 120],\n",
              "        [220, 217, 100]],\n",
              "\n",
              "       [[112, 103, 104],\n",
              "        [108,  99, 100],\n",
              "        [133, 124, 125],\n",
              "        ...,\n",
              "        [238, 236, 177],\n",
              "        [230, 232, 149],\n",
              "        [233, 235, 138]],\n",
              "\n",
              "       ...,\n",
              "\n",
              "       [[179, 158, 153],\n",
              "        [170, 149, 144],\n",
              "        [174, 150, 146],\n",
              "        ...,\n",
              "        [200, 185, 182],\n",
              "        [201, 186, 179],\n",
              "        [202, 188, 177]],\n",
              "\n",
              "       [[174, 153, 150],\n",
              "        [177, 153, 151],\n",
              "        [183, 159, 157],\n",
              "        ...,\n",
              "        [205, 190, 187],\n",
              "        [203, 189, 180],\n",
              "        [200, 186, 175]],\n",
              "\n",
              "       [[184, 163, 160],\n",
              "        [194, 170, 168],\n",
              "        [198, 177, 174],\n",
              "        ...,\n",
              "        [203, 188, 185],\n",
              "        [203, 189, 180],\n",
              "        [202, 188, 175]]], dtype=uint8)"
            ]
          },
          "metadata": {
            "tags": []
          },
          "execution_count": 5
        }
      ]
    },
    {
      "metadata": {
        "id": "IkdFLDCtkiNg",
        "colab_type": "code",
        "outputId": "1c912e79-1d34-43f3-a2fe-dd3e38ac94b2",
        "colab": {
          "base_uri": "https://localhost:8080/",
          "height": 71
        }
      },
      "cell_type": "code",
      "source": [
        "np_im.tolist()\n",
        "print(np_im.shape)\n",
        "\n",
        "#a=np.histogram(img, bins=10, range=None, normed=None, weights=None, density=None)\n",
        "\n",
        "\"\"\"m=cv2.imread(list[0])\n",
        "target=io.imread(m, as_grey=True)\n",
        "img_HSV = cv2.cvtColor(target, cv2.COLOR_BGR2HSV)\n",
        "#skin color range for hsv color space \n",
        "#HSV_mask = cv2.inRange(img_HSV, (0, 80, 20), (25, 255, 255))\n",
        "HSV_mask = cv2.inRange(img_HSV, (23, 59, 90), (34, 100, 100))\n",
        "target = cv2.bitwise_and(m,m, mask=HSV_mask)\"\"\"\n",
        "\n"
      ],
      "execution_count": 6,
      "outputs": [
        {
          "output_type": "stream",
          "text": [
            "(780, 1040, 3)\n"
          ],
          "name": "stdout"
        },
        {
          "output_type": "execute_result",
          "data": {
            "text/plain": [
              "'m=cv2.imread(list[0])\\ntarget=io.imread(m, as_grey=True)\\nimg_HSV = cv2.cvtColor(target, cv2.COLOR_BGR2HSV)\\n#skin color range for hsv color space \\n#HSV_mask = cv2.inRange(img_HSV, (0, 80, 20), (25, 255, 255))\\nHSV_mask = cv2.inRange(img_HSV, (23, 59, 90), (34, 100, 100))\\ntarget = cv2.bitwise_and(m,m, mask=HSV_mask)'"
            ]
          },
          "metadata": {
            "tags": []
          },
          "execution_count": 6
        }
      ]
    },
    {
      "metadata": {
        "id": "7XgYjmkLkrwD",
        "colab_type": "code",
        "outputId": "82527804-c4b5-438f-9be0-a5f8c6220677",
        "colab": {
          "base_uri": "https://localhost:8080/",
          "height": 34
        }
      },
      "cell_type": "code",
      "source": [
        "np_im.tolist()\n",
        "print(np_im.shape)\n",
        "\n",
        "\n"
      ],
      "execution_count": 7,
      "outputs": [
        {
          "output_type": "stream",
          "text": [
            "(780, 1040, 3)\n"
          ],
          "name": "stdout"
        }
      ]
    },
    {
      "metadata": {
        "id": "WDYTyXwIksFs",
        "colab_type": "code",
        "colab": {}
      },
      "cell_type": "code",
      "source": [
        "data = []\n",
        "for i in range(355):\n",
        "    for j in range(474):\n",
        "        data.append(np_im[i][j])\n",
        "\n",
        "\n",
        "\n",
        "\n"
      ],
      "execution_count": 0,
      "outputs": []
    },
    {
      "metadata": {
        "id": "Vu6egjPHksZ7",
        "colab_type": "code",
        "outputId": "0efab652-fd8a-4416-a9c4-b70e4143f7b1",
        "colab": {
          "base_uri": "https://localhost:8080/",
          "height": 34
        }
      },
      "cell_type": "code",
      "source": [
        "data = pd.DataFrame(data)\n",
        "\n",
        "\n",
        "\n",
        "\n",
        "\"\"\"plt.bar(data)\n",
        "#plt.hist(data,bins=100)\n",
        "plt.title(\"Histogram with 'auto' bins\")\n",
        "plt.show()\"\"\"\n"
      ],
      "execution_count": 9,
      "outputs": [
        {
          "output_type": "execute_result",
          "data": {
            "text/plain": [
              "'plt.bar(data)\\n#plt.hist(data,bins=100)\\nplt.title(\"Histogram with \\'auto\\' bins\")\\nplt.show()'"
            ]
          },
          "metadata": {
            "tags": []
          },
          "execution_count": 9
        }
      ]
    },
    {
      "metadata": {
        "id": "r4iMnZ5kkxHd",
        "colab_type": "code",
        "colab": {}
      },
      "cell_type": "code",
      "source": [
        "plt.bar(data.index,data[0])\n",
        "plt.show()\n",
        "\n"
      ],
      "execution_count": 0,
      "outputs": []
    },
    {
      "metadata": {
        "id": "mgO9Ww2Qkydy",
        "colab_type": "code",
        "colab": {}
      },
      "cell_type": "code",
      "source": [
        "data = data.mask(data < 0.4)\n",
        "\n"
      ],
      "execution_count": 0,
      "outputs": []
    },
    {
      "metadata": {
        "id": "MHuTu3Okkzim",
        "colab_type": "code",
        "colab": {}
      },
      "cell_type": "code",
      "source": [
        "data.fillna(0)\n",
        "\n"
      ],
      "execution_count": 0,
      "outputs": []
    },
    {
      "metadata": {
        "id": "3CRSrViKk0R3",
        "colab_type": "code",
        "colab": {}
      },
      "cell_type": "code",
      "source": [
        "plt.bar(data.index,data[0])\n",
        "plt.show()"
      ],
      "execution_count": 0,
      "outputs": []
    }
  ]
}