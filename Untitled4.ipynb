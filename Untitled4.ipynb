{
 "cells": [
  {
   "cell_type": "code",
   "execution_count": 14,
   "metadata": {},
   "outputs": [
    {
     "name": "stdout",
     "output_type": "stream",
     "text": [
      "abhi\n",
      "['_', '_']\n"
     ]
    }
   ],
   "source": [
    "correct_word = input()\n",
    "correct_word = list(map(str, correct_word.split()))\n",
    "guess_track=[]\n",
    "for item in range(len(correct_word)+1):\n",
    "    guess_track.append(\"_\")\n",
    "\n",
    "print(guess_track)\n",
    "tracked = []\n",
    "counter=0\n"
   ]
  },
  {
   "cell_type": "code",
   "execution_count": null,
   "metadata": {
    "collapsed": true
   },
   "outputs": [],
   "source": [
    "while len(correct_word) > 0:\n",
    "    guess_char=input(\"enter your guess\")\n",
    "    \n",
    "    for i in range(len(correct_word)):\n",
    "        print(\"turn is\",i)\n",
    "        if guess_track == correct_word:\n",
    "            print(\"you won\")\n",
    "            sys.exit\n",
    "        elif guess_char == correct_word[i]:\n",
    "            tracked.append(i)\n",
    "            guess_track[i]=correct_word[i]\n",
    "            \n",
    "            print(guess_track)\n",
    "            print(i)\n",
    "            print(len(correct_word))\n",
    "        else:\n",
    "            pass\n",
    "            \n",
    "    \n",
    "    "
   ]
  },
  {
   "cell_type": "code",
   "execution_count": null,
   "metadata": {
    "collapsed": true
   },
   "outputs": [],
   "source": []
  },
  {
   "cell_type": "code",
   "execution_count": null,
   "metadata": {
    "collapsed": true
   },
   "outputs": [],
   "source": []
  }
 ],
 "metadata": {
  "kernelspec": {
   "display_name": "Python 3",
   "language": "python",
   "name": "python3"
  },
  "language_info": {
   "codemirror_mode": {
    "name": "ipython",
    "version": 3
   },
   "file_extension": ".py",
   "mimetype": "text/x-python",
   "name": "python",
   "nbconvert_exporter": "python",
   "pygments_lexer": "ipython3",
   "version": "3.6.3"
  }
 },
 "nbformat": 4,
 "nbformat_minor": 2
}
