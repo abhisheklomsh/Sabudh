{
 "cells": [
  {
   "cell_type": "code",
   "execution_count": null,
   "metadata": {
    "collapsed": true
   },
   "outputs": [],
   "source": [
    "\"\"\"Author: Abhishek Lomsh\n",
    "Here I have developed Hangman game using python\"\"\""
   ]
  },
  {
   "cell_type": "code",
   "execution_count": 5,
   "metadata": {},
   "outputs": [
    {
     "name": "stdout",
     "output_type": "stream",
     "text": [
      "Hangman\n",
      "['_', '_', '_', '_', '_', '_', '_']\n",
      "['h', 'a', 'n', 'g', 'm', 'a', 'n']\n"
     ]
    }
   ],
   "source": [
    "import sys\n",
    "correct_word = input().lower()\n",
    "correct_word = list(correct_word)\n",
    "guess_track=[]\n",
    "for item in range(len(correct_word)):\n",
    "    guess_track.append(\"_\")\n",
    "\n",
    "print(guess_track)\n",
    "tracked = []\n",
    "counter=0\n",
    "print(correct_word)\n",
    "flag=1\n",
    "life=6\n",
    "life_flag=0\n",
    "\n"
   ]
  },
  {
   "cell_type": "code",
   "execution_count": 6,
   "metadata": {},
   "outputs": [
    {
     "name": "stdout",
     "output_type": "stream",
     "text": [
      "enter your guessh\n",
      "['h', '_', '_', '_', '_', '_', '_']\n",
      "enter your guessA\n",
      "['h', 'a', '_', '_', '_', '_', '_']\n",
      "['h', 'a', '_', '_', '_', 'a', '_']\n",
      "enter your guessN\n",
      "['h', 'a', 'n', '_', '_', 'a', '_']\n",
      "['h', 'a', 'n', '_', '_', 'a', 'n']\n",
      "enter your guessg\n",
      "['h', 'a', 'n', 'g', '_', 'a', 'n']\n",
      "enter your guessm\n",
      "['h', 'a', 'n', 'g', 'm', 'a', 'n']\n",
      "you won\n"
     ]
    }
   ],
   "source": [
    "while (len(correct_word) > 0 and flag == 1 and life > 0):\n",
    "    if life_flag==1:\n",
    "        life-=1\n",
    "    guess_char=input(\"enter your guess\").lower()\n",
    "    life_flag=1\n",
    "    for i in range(len(correct_word)):\n",
    "        #print(\"turn is\",i)\n",
    "        \n",
    "        if guess_track == correct_word:\n",
    "            print(\"you won\")\n",
    "            flag=0\n",
    "            break\n",
    "            \n",
    "        elif guess_char == correct_word[i]:\n",
    "            tracked.append(i)\n",
    "            guess_track[i]=correct_word[i]\n",
    "            print(guess_track)\n",
    "            life_flag=0\n",
    "            #print(i)\n",
    "            #print(correct_word)\n",
    "            #print(str(guess_track))\n",
    "            \n",
    "        elif guess_track == correct_word:\n",
    "            print(\"you won\")\n",
    "            flag=0\n",
    "            break\n",
    "        \n",
    "        else:\n",
    "            pass\n",
    "            \n",
    "    \n",
    "    "
   ]
  },
  {
   "cell_type": "markdown",
   "metadata": {},
   "source": []
  },
  {
   "cell_type": "code",
   "execution_count": null,
   "metadata": {
    "collapsed": true
   },
   "outputs": [],
   "source": []
  },
  {
   "cell_type": "code",
   "execution_count": null,
   "metadata": {
    "collapsed": true
   },
   "outputs": [],
   "source": []
  },
  {
   "cell_type": "code",
   "execution_count": null,
   "metadata": {
    "collapsed": true
   },
   "outputs": [],
   "source": []
  },
  {
   "cell_type": "code",
   "execution_count": null,
   "metadata": {
    "collapsed": true
   },
   "outputs": [],
   "source": []
  },
  {
   "cell_type": "code",
   "execution_count": null,
   "metadata": {
    "collapsed": true
   },
   "outputs": [],
   "source": []
  }
 ],
 "metadata": {
  "kernelspec": {
   "display_name": "Python 3",
   "language": "python",
   "name": "python3"
  },
  "language_info": {
   "codemirror_mode": {
    "name": "ipython",
    "version": 3
   },
   "file_extension": ".py",
   "mimetype": "text/x-python",
   "name": "python",
   "nbconvert_exporter": "python",
   "pygments_lexer": "ipython3",
   "version": "3.6.3"
  }
 },
 "nbformat": 4,
 "nbformat_minor": 2
}
