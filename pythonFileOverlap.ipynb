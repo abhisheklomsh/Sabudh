{
 "cells": [
  {
   "cell_type": "code",
   "execution_count": 7,
   "metadata": {},
   "outputs": [],
   "source": [
    "with open('primenumbers.txt', 'r') as f:\n",
    "    read_data = f.read().splitlines()\n",
    "with open('happynumbers.txt', 'r') as g:\n",
    "    read_file = g.read().splitlines()\n",
    "with open(\"overlap.txt\",mode = 'w') as h:\n",
    "    h.write(\"overlapping numbers\")\n",
    "    \n",
    "for number in read_data:\n",
    "    if number in read_file:\n",
    "        with open(\"overlap.txt\",mode = 'a') as i:\n",
    "            i.write(number)\n",
    "with open('overlap.txt', 'r') as j:\n",
    "    \n",
    "    j.readLines()\n",
    "        "
   ]
  },
  {
   "cell_type": "code",
   "execution_count": null,
   "metadata": {
    "collapsed": true
   },
   "outputs": [],
   "source": []
  }
 ],
 "metadata": {
  "kernelspec": {
   "display_name": "Python 3",
   "language": "python",
   "name": "python3"
  },
  "language_info": {
   "codemirror_mode": {
    "name": "ipython",
    "version": 3
   },
   "file_extension": ".py",
   "mimetype": "text/x-python",
   "name": "python",
   "nbconvert_exporter": "python",
   "pygments_lexer": "ipython3",
   "version": "3.6.3"
  }
 },
 "nbformat": 4,
 "nbformat_minor": 2
}
