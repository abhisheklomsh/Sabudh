{
 "cells": [
  {
   "cell_type": "code",
   "execution_count": null,
   "metadata": {},
   "outputs": [
    {
     "name": "stderr",
     "output_type": "stream",
     "text": [
      " * Running on http://127.0.0.1:5000/ (Press CTRL+C to quit)\n",
      "127.0.0.1 - - [30/Jan/2019 12:54:32] \"\u001b[37mGET / HTTP/1.1\u001b[0m\" 200 -\n",
      "127.0.0.1 - - [30/Jan/2019 12:56:20] \"\u001b[37mGET / HTTP/1.1\u001b[0m\" 200 -\n"
     ]
    }
   ],
   "source": [
    "import pandas as pd\n",
    "import json\n",
    "from flask import Flask,request,redirect,url_for,jsonify\n",
    "app=Flask(__name__)\n",
    "\n",
    "@app.route(\"/\",methods=['GET']) # 'http::/www.google.com/'\n",
    "def hom():\n",
    "    df=pd.read_csv(\"out.csv\")\n",
    "    new_dict=df.to_dict(\"index\")\n",
    "    abc= list(new_dict.values())\n",
    "    return json.dumps(abc)\n",
    "\n",
    "@app.route('/',methods=[\"POST\"])\n",
    "def insert():\n",
    "    data=request.get_json()\n",
    "    df=pd.read_csv('out.csv')\n",
    "    list_of_df=list(df.to_dict('index').values())\n",
    "    created_data={}\n",
    "    created_data['index'] = (list_of_df[-1][\"index\"]+1)\n",
    "    combined_data={**created_data,**data}\n",
    "    df=df.append(combined_data,ignore_index=True)\n",
    "    print(df)\n",
    "    df.to_csv(r'out.csv',index=None,header=True)\n",
    "    return jsonify({\"index\":created_data[\"index\"]})\n",
    "\n",
    "@app.route('/',methods=[\"PUT\"])\n",
    "def update():\n",
    "    data=request.get_json()\n",
    "    df=pd.read_csv(\"out.csv\")\n",
    "    df.loc[df[\"index\"] == data[\"index\"], ['name','roll',\"class\"]] = data['name'],data['roll'],data[\"class\"]\n",
    "    df.to_csv(r'out.csv',index=None,header=True)\n",
    "    return jsonify({\"index\":data[\"index\"]})\n",
    "\n",
    "@app.route('/',methods=[\"DELETE\"])\n",
    "def delete():\n",
    "    data=request.get_json()\n",
    "    df=pd.read_csv(\"out.csv\")\n",
    "    df= df[df[\"index\"]!= data['index']]\n",
    "    df.to_csv(r'out.csv',index=None,header=True)\n",
    "    return jsonify({\"index\":data[\"index\"]})\n",
    "\n",
    "app.run(port=5000)"
   ]
  },
  {
   "cell_type": "code",
   "execution_count": null,
   "metadata": {
    "collapsed": true
   },
   "outputs": [],
   "source": []
  },
  {
   "cell_type": "code",
   "execution_count": null,
   "metadata": {
    "collapsed": true
   },
   "outputs": [],
   "source": []
  }
 ],
 "metadata": {
  "kernelspec": {
   "display_name": "Python 3",
   "language": "python",
   "name": "python3"
  },
  "language_info": {
   "codemirror_mode": {
    "name": "ipython",
    "version": 3
   },
   "file_extension": ".py",
   "mimetype": "text/x-python",
   "name": "python",
   "nbconvert_exporter": "python",
   "pygments_lexer": "ipython3",
   "version": "3.6.3"
  }
 },
 "nbformat": 4,
 "nbformat_minor": 2
}
