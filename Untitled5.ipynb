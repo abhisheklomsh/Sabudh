{
 "cells": [
  {
   "cell_type": "code",
   "execution_count": 138,
   "metadata": {},
   "outputs": [],
   "source": [
    "import numpy as np\n",
    "import scipy.spatial.distance as sc\n",
    "import matplotlib.pyplot as plt\n"
   ]
  },
  {
   "cell_type": "code",
   "execution_count": 139,
   "metadata": {},
   "outputs": [],
   "source": [
    "m=np.random.random((1))\n",
    "c=np.random.random((1))\n",
    "x = (np.random.normal(loc=0.0, scale=1.0, size=100))*10\n",
    "e = (np.random.normal(loc=0.0, scale=1.0, size=100))"
   ]
  },
  {
   "cell_type": "code",
   "execution_count": 140,
   "metadata": {},
   "outputs": [
    {
     "name": "stdout",
     "output_type": "stream",
     "text": [
      "[0.95388645]\n",
      "[0.33717727]\n"
     ]
    }
   ],
   "source": [
    "\n",
    "print(m)\n",
    "print(c)\n"
   ]
  },
  {
   "cell_type": "code",
   "execution_count": 141,
   "metadata": {},
   "outputs": [],
   "source": [
    "y= m*x +c + e\n"
   ]
  },
  {
   "cell_type": "code",
   "execution_count": null,
   "metadata": {},
   "outputs": [],
   "source": []
  },
  {
   "cell_type": "code",
   "execution_count": 142,
   "metadata": {},
   "outputs": [
    {
     "name": "stdout",
     "output_type": "stream",
     "text": [
      "38.61973712095751\n"
     ]
    }
   ],
   "source": [
    "cost= (1/200)*np.sum(np.square(y1-y))\n",
    "    \n",
    "print(cost)"
   ]
  },
  {
   "cell_type": "code",
   "execution_count": 143,
   "metadata": {},
   "outputs": [],
   "source": [
    "m1 = 1\n",
    "c1 = 1\n",
    "y1= m1*x +c1\n",
    "\n"
   ]
  },
  {
   "cell_type": "code",
   "execution_count": 144,
   "metadata": {},
   "outputs": [],
   "source": [
    "ncost=0\n",
    "n=0"
   ]
  },
  {
   "cell_type": "code",
   "execution_count": 145,
   "metadata": {
    "scrolled": false
   },
   "outputs": [
    {
     "name": "stdout",
     "output_type": "stream",
     "text": [
      "Cost 0.8153880077653974\n",
      "Slope 0.951646329670494\n",
      "Intercept 0.9923316653220801\n",
      "Cost 0.807260548755916\n",
      "Slope 0.9444482005205511\n",
      "Intercept 0.985110906102175\n",
      "Cost 0.8021993320083801\n",
      "Slope 0.9434232870324539\n",
      "Intercept 0.9780175670219172\n",
      "Cost 0.7973035174925528\n",
      "Slope 0.9433238761558908\n",
      "Intercept 0.9710030228313895\n",
      "Cost 0.7925059220796783\n",
      "Slope 0.943362760887772\n",
      "Intercept 0.964059386604198\n",
      "Cost 0.7878031665512216\n",
      "Slope 0.9434218572163827\n",
      "Intercept 0.9571848884777358\n",
      "Cost 0.7831933443808963\n",
      "Slope 0.9434834565967128\n",
      "Intercept 0.9503786820399146\n",
      "Cost 0.7786746183554041\n",
      "Slope 0.9435449078118373\n",
      "Intercept 0.943640065174434\n",
      "Cost 0.7742451882791375\n",
      "Slope 0.9436058183510162\n",
      "Intercept 0.9369683631220573\n",
      "Cost 0.7699032895467315\n",
      "Slope 0.9436661344816729\n",
      "Intercept 0.9303629108818556\n",
      "Cost 0.7656471924240988\n",
      "Slope 0.9437258532404144\n",
      "Intercept 0.9238230505150598\n",
      "Cost 0.7614752013589715\n",
      "Slope 0.9437849792291476\n",
      "Intercept 0.9173481306850186\n",
      "Cost 0.7573856543054177\n",
      "Slope 0.9438435181345443\n",
      "Intercept 0.9109375065331492\n",
      "Cost 0.7533769220617117\n",
      "Slope 0.943901475756388\n",
      "Intercept 0.9045905396058352\n",
      "Cost 0.7494474076212886\n",
      "Slope 0.9439588578623103\n",
      "Intercept 0.89830659778951\n",
      "Cost 0.7455955455365265\n",
      "Slope 0.9440156701664861\n",
      "Intercept 0.8920850552475024\n",
      "Cost 0.7418198012951007\n",
      "Slope 0.9440719183269215\n",
      "Intercept 0.8859252923576778\n",
      "Cost 0.738118670708661\n",
      "Slope 0.9441276079455247\n",
      "Intercept 0.879826695650724\n",
      "Cost 0.734490679313591\n",
      "Slope 0.9441827445685899\n",
      "Intercept 0.8737886577490529\n",
      "Cost 0.7309343817836067\n",
      "Slope 0.9442373336873389\n",
      "Intercept 0.86781057730631\n",
      "Cost 0.7274483613539673\n",
      "Slope 0.9442913807384661\n",
      "Intercept 0.8618918589474844\n",
      "Cost 0.7240312292570594\n",
      "Slope 0.94434489110468\n",
      "Intercept 0.8560319132096139\n",
      "Cost 0.7206816241691376\n",
      "Slope 0.9443978701152389\n",
      "Intercept 0.8502301564830781\n",
      "Cost 0.7173982116679989\n",
      "Slope 0.9444503230464817\n",
      "Intercept 0.8444860109534754\n",
      "Cost 0.7141796837013705\n",
      "Slope 0.9445022551223536\n",
      "Intercept 0.8387989045440766\n",
      "Cost 0.7110247580658094\n",
      "Slope 0.9445536715149262\n",
      "Intercept 0.8331682708588499\n",
      "Cost 0.7079321778958904\n",
      "Slope 0.9446045773449128\n",
      "Intercept 0.8275935491260521\n",
      "Cost 0.704900711163498\n",
      "Slope 0.944654977682178\n",
      "Intercept 0.8220741841423793\n",
      "Cost 0.7019291501870071\n",
      "Slope 0.944704877546243\n",
      "Intercept 0.816609626217673\n",
      "Cost 0.699016311150164\n",
      "Slope 0.9447542819067855\n",
      "Intercept 0.8111993311201742\n",
      "Cost 0.6961610336304759\n",
      "Slope 0.944803195684134\n",
      "Intercept 0.8058427600223224\n",
      "Cost 0.6933621801369191\n",
      "Slope 0.944851623749759\n",
      "Intercept 0.8005393794470916\n",
      "Cost 0.6906186356567837\n",
      "Slope 0.944899570926757\n",
      "Intercept 0.7952886612148601\n",
      "Cost 0.6879293072114725\n",
      "Slope 0.9449470419903317\n",
      "Intercept 0.790090082390807\n",
      "Cost 0.6852931234210777\n",
      "Slope 0.9449940416682691\n",
      "Intercept 0.7849431252328323\n",
      "Cost 0.6827090340775623\n",
      "Slope 0.9450405746414084\n",
      "Intercept 0.7798472771399926\n",
      "Cost 0.6801760097263779\n",
      "Slope 0.9450866455441085\n",
      "Intercept 0.7748020306014503\n",
      "Cost 0.6776930412563461\n",
      "Slope 0.945132258964709\n",
      "Intercept 0.7698068831459286\n",
      "Cost 0.6752591394976478\n",
      "Slope 0.9451774194459875\n",
      "Intercept 0.7648613372916692\n",
      "Cost 0.6728733348277569\n",
      "Slope 0.9452221314856125\n",
      "Intercept 0.7599649004968861\n",
      "Cost 0.670534676785159\n",
      "Slope 0.9452663995365904\n",
      "Intercept 0.7551170851107127\n",
      "Cost 0.6682422336907047\n",
      "Slope 0.9453102280077095\n",
      "Intercept 0.7503174083246346\n",
      "Cost 0.6659950922764459\n",
      "Slope 0.9453536212639789\n",
      "Intercept 0.745565392124405\n",
      "Cost 0.6637923573218059\n",
      "Slope 0.9453965836270638\n",
      "Intercept 0.7408605632424387\n",
      "Cost 0.6616331512969406\n",
      "Slope 0.9454391193757149\n",
      "Intercept 0.736202453110677\n",
      "Cost 0.6595166140131451\n",
      "Slope 0.9454812327461954\n",
      "Intercept 0.7315905978139224\n",
      "Cost 0.6574419022801711\n",
      "Slope 0.9455229279327027\n",
      "Intercept 0.7270245380436354\n",
      "Cost 0.6554081895703148\n",
      "Slope 0.9455642090877856\n",
      "Intercept 0.7225038190521906\n",
      "Cost 0.6534146656891427\n",
      "Slope 0.9456050803227586\n",
      "Intercept 0.7180279906075874\n",
      "Cost 0.6514605364527252\n",
      "Slope 0.9456455457081108\n",
      "Intercept 0.7135966069486094\n",
      "Cost 0.649545023371249\n",
      "Slope 0.9456856092739118\n",
      "Intercept 0.7092092267404303\n",
      "Cost 0.6476673633388786\n",
      "Slope 0.9457252750102124\n",
      "Intercept 0.7048654130306599\n",
      "Cost 0.6458268083297511\n",
      "Slope 0.9457645468674428\n",
      "Intercept 0.7005647332058262\n",
      "Cost 0.6440226250999741\n",
      "Slope 0.9458034287568053\n",
      "Intercept 0.6963067589482912\n",
      "Cost 0.6422540948955168\n",
      "Slope 0.9458419245506642\n",
      "Intercept 0.6920910661935922\n",
      "Cost 0.6405205131658686\n",
      "Slope 0.9458800380829314\n",
      "Intercept 0.6879172350882087\n",
      "Cost 0.6388211892833616\n",
      "Slope 0.9459177731494481\n",
      "Intercept 0.6837848499477479\n",
      "Cost 0.6371554462680349\n",
      "Slope 0.9459551335083631\n",
      "Intercept 0.6796934992155451\n",
      "Cost 0.6355226205179397\n",
      "Slope 0.945992122880507\n",
      "Intercept 0.675642775421676\n",
      "Cost 0.6339220615447715\n",
      "Slope 0.9460287449497627\n",
      "Intercept 0.6716322751423748\n",
      "Cost 0.632353131714726\n",
      "Slope 0.946065003363432\n",
      "Intercept 0.667661598959857\n",
      "Cost 0.6308152059944806\n",
      "Slope 0.9461009017325994\n",
      "Intercept 0.6637303514225394\n",
      "Cost 0.6293076717021887\n",
      "Slope 0.9461364436324916\n",
      "Intercept 0.6598381410056564\n",
      "Cost 0.6278299282634009\n",
      "Slope 0.9461716326028332\n",
      "Intercept 0.6559845800722662\n",
      "Cost 0.6263813869718056\n",
      "Slope 0.9462064721481996\n",
      "Intercept 0.6521692848346458\n",
      "Cost 0.6249614707547001\n",
      "Slope 0.9462409657383659\n",
      "Intercept 0.6483918753160675\n",
      "Cost 0.6235696139430938\n",
      "Slope 0.9462751168086526\n",
      "Intercept 0.6446519753129565\n",
      "Cost 0.6222052620463575\n",
      "Slope 0.9463089287602673\n",
      "Intercept 0.6409492123574235\n",
      "Cost 0.6208678715313234\n",
      "Slope 0.9463424049606441\n",
      "Intercept 0.6372832176801695\n",
      "Cost 0.6195569096057516\n",
      "Slope 0.9463755487437784\n",
      "Intercept 0.6336536261737586\n",
      "Cost 0.6182718540060748\n",
      "Slope 0.9464083634105593\n",
      "Intercept 0.6300600763562567\n",
      "Cost 0.6170121927893382\n",
      "Slope 0.9464408522290982\n",
      "Intercept 0.6265022103352293\n",
      "Cost 0.6157774241292518\n",
      "Slope 0.9464730184350542\n",
      "Intercept 0.6229796737720991\n",
      "Cost 0.6145670561162697\n",
      "Slope 0.9465048652319563\n",
      "Intercept 0.6194921158468552\n",
      "Cost 0.613380606561624\n",
      "Slope 0.9465363957915232\n",
      "Intercept 0.6160391892231148\n",
      "Cost 0.6122176028052282\n",
      "Slope 0.9465676132539778\n",
      "Intercept 0.6126205500135307\n",
      "Cost 0.6110775815273796\n",
      "Slope 0.9465985207283611\n",
      "Intercept 0.6092358577455419\n",
      "Cost 0.6099600885641793\n",
      "Slope 0.9466291212928417\n",
      "Intercept 0.6058847753274659\n",
      "Cost 0.6088646787266023\n",
      "Slope 0.9466594179950216\n",
      "Intercept 0.6025669690149259\n",
      "Cost 0.6077909156231429\n",
      "Slope 0.9466894138522406\n",
      "Intercept 0.5992821083776128\n",
      "Cost 0.6067383714859629\n",
      "Slope 0.9467191118518764\n",
      "Intercept 0.5960298662663761\n",
      "Cost 0.6057066270004772\n",
      "Slope 0.9467485149516418\n",
      "Intercept 0.5928099187806428\n",
      "Cost 0.6046952711383071\n",
      "Slope 0.9467776260798803\n",
      "Intercept 0.5896219452361584\n",
      "Cost 0.603703900993533\n",
      "Slope 0.9468064481358566\n",
      "Intercept 0.5864656281330496\n",
      "Cost 0.602732121622184\n",
      "Slope 0.9468349839900458\n",
      "Intercept 0.5833406531242031\n",
      "Cost 0.6017795458849006\n",
      "Slope 0.9468632364844196\n",
      "Intercept 0.5802467089839594\n",
      "Cost 0.6008457942927034\n",
      "Slope 0.9468912084327288\n",
      "Intercept 0.577183487577116\n",
      "Cost 0.5999304948558132\n",
      "Slope 0.9469189026207838\n",
      "Intercept 0.5741506838282403\n",
      "Cost 0.5990332829354568\n",
      "Slope 0.9469463218067323\n",
      "Intercept 0.5711479956912855\n",
      "Cost 0.5981538010986004\n",
      "Slope 0.9469734687213334\n",
      "Intercept 0.5681751241195092\n",
      "Cost 0.5972916989755556\n",
      "Slope 0.9470003460682298\n",
      "Intercept 0.5652317730356905\n",
      "Cost 0.596446633120398\n",
      "Slope 0.9470269565242175\n",
      "Intercept 0.5623176493026426\n",
      "Cost 0.5956182668741458\n",
      "Slope 0.9470533027395118\n",
      "Intercept 0.5594324626940185\n",
      "Cost 0.5948062702306388\n",
      "Slope 0.9470793873380116\n",
      "Intercept 0.5565759258654063\n",
      "Cost 0.5940103197050719\n",
      "Slope 0.9471052129175603\n",
      "Intercept 0.5537477543257121\n",
      "Cost 0.5932300982051225\n",
      "Slope 0.9471307820502053\n",
      "Intercept 0.5509476664088262\n",
      "Cost 0.5924652949046296\n",
      "Slope 0.9471560972824532\n",
      "Intercept 0.5481753832455716\n",
      "Cost 0.5917156051197637\n",
      "Slope 0.9471811611355242\n",
      "Intercept 0.5454306287359301\n",
      "Cost 0.5909807301876465\n",
      "Slope 0.9472059761056029\n",
      "Intercept 0.542713129521545\n",
      "Cost 0.5902603773473707\n",
      "Slope 0.9472305446640866\n",
      "Intercept 0.5400226149584967\n"
     ]
    }
   ],
   "source": [
    "while n<100:\n",
    "    m1 = m1 - (0.01)*(-1/100)*np.sum((y-y1)*x)\n",
    "    c1 = c1 - (0.01)*(-1/100)*np.sum((y-y1))\n",
    "\n",
    "    y1= m1*x +c1\n",
    "    cost= (1/200)*np.sum(np.square(y1-y))\n",
    "    print(\"Cost \"+str(cost))\n",
    "    print(\"Slope \"+str(m1))\n",
    "    print(\"Intercept \" +str(c1))\n",
    "    n+=1"
   ]
  },
  {
   "cell_type": "code",
   "execution_count": 154,
   "metadata": {},
   "outputs": [
    {
     "data": {
      "image/png": "[encoded data removed]",
      "text/plain": [
       "<matplotlib.figure.Figure at 0x1212ef240>"
      ]
     },
     "metadata": {},
     "output_type": "display_data"
    }
   ],
   "source": [
    "plt.scatter(x,y)\n",
    "plt.plot(x,y1)\n",
    "\n",
    "plt.show()"
   ]
  },
  {
   "cell_type": "code",
   "execution_count": null,
   "metadata": {
    "collapsed": true
   },
   "outputs": [],
   "source": []
  },
  {
   "cell_type": "code",
   "execution_count": 36,
   "metadata": {
    "collapsed": true
   },
   "outputs": [],
   "source": []
  },
  {
   "cell_type": "code",
   "execution_count": 37,
   "metadata": {
    "collapsed": true
   },
   "outputs": [],
   "source": [
    "run_time=stop-start"
   ]
  },
  {
   "cell_type": "code",
   "execution_count": 38,
   "metadata": {
    "collapsed": true
   },
   "outputs": [],
   "source": [
    "count=0\n",
    "\n",
    "    \n",
    "    "
   ]
  },
  {
   "cell_type": "code",
   "execution_count": 39,
   "metadata": {
    "collapsed": true
   },
   "outputs": [],
   "source": [
    "start2=datetime.datetime.now()\n",
    "for i,j in array_np:\n",
    "    result_np.append(i*j)\n",
    "stop2=datetime.datetime.now()"
   ]
  },
  {
   "cell_type": "code",
   "execution_count": 40,
   "metadata": {},
   "outputs": [
    {
     "name": "stdout",
     "output_type": "stream",
     "text": [
      "0:00:00.000218\n"
     ]
    }
   ],
   "source": [
    "print(run_time)"
   ]
  },
  {
   "cell_type": "code",
   "execution_count": 41,
   "metadata": {},
   "outputs": [
    {
     "name": "stdout",
     "output_type": "stream",
     "text": [
      "0:00:00.000282\n"
     ]
    }
   ],
   "source": [
    "print(stop2-start2)"
   ]
  },
  {
   "cell_type": "code",
   "execution_count": null,
   "metadata": {
    "collapsed": true
   },
   "outputs": [],
   "source": []
  }
 ],
 "metadata": {
  "kernelspec": {
   "display_name": "Python 3",
   "language": "python",
   "name": "python3"
  },
  "language_info": {
   "codemirror_mode": {
    "name": "ipython",
    "version": 3
   },
   "file_extension": ".py",
   "mimetype": "text/x-python",
   "name": "python",
   "nbconvert_exporter": "python",
   "pygments_lexer": "ipython3",
   "version": "3.6.3"
  }
 },
 "nbformat": 4,
 "nbformat_minor": 2
}
